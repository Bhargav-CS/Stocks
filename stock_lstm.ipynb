{
 "cells": [
  {
   "cell_type": "code",
   "execution_count": 1,
   "metadata": {},
   "outputs": [],
   "source": [
    "# we are going to use LSTM to predict the stock price of a company using the past 60 days stock price."
   ]
  },
  {
   "cell_type": "code",
   "execution_count": 2,
   "metadata": {},
   "outputs": [
    {
     "name": "stdout",
     "output_type": "stream",
     "text": [
      "WARNING:tensorflow:From c:\\Users\\Bhargav\\AppData\\Local\\Programs\\Python\\Python310\\lib\\site-packages\\keras\\src\\losses.py:2976: The name tf.losses.sparse_softmax_cross_entropy is deprecated. Please use tf.compat.v1.losses.sparse_softmax_cross_entropy instead.\n",
      "\n"
     ]
    }
   ],
   "source": [
    "import math\n",
    "import pandas_datareader as web\n",
    "import numpy as np\n",
    "import pandas as pd\n",
    "from sklearn.preprocessing import MinMaxScaler\n",
    "from keras.models import Sequential\n",
    "from keras.layers import Dense, LSTM\n",
    "import matplotlib.pyplot as plt\n",
    "plt.style.use('fivethirtyeight')"
   ]
  },
  {
   "cell_type": "code",
   "execution_count": 6,
   "metadata": {},
   "outputs": [],
   "source": [
    "df = web.DataReader(\"AAPL\", \"stooq\", start=\"2012-01-01\", end=\"2020-12-17\")"
   ]
  },
  {
   "cell_type": "code",
   "execution_count": 7,
   "metadata": {},
   "outputs": [
    {
     "data": {
      "text/html": [
       "<div>\n",
       "<style scoped>\n",
       "    .dataframe tbody tr th:only-of-type {\n",
       "        vertical-align: middle;\n",
       "    }\n",
       "\n",
       "    .dataframe tbody tr th {\n",
       "        vertical-align: top;\n",
       "    }\n",
       "\n",
       "    .dataframe thead th {\n",
       "        text-align: right;\n",
       "    }\n",
       "</style>\n",
       "<table border=\"1\" class=\"dataframe\">\n",
       "  <thead>\n",
       "    <tr style=\"text-align: right;\">\n",
       "      <th></th>\n",
       "      <th>Open</th>\n",
       "      <th>High</th>\n",
       "      <th>Low</th>\n",
       "      <th>Close</th>\n",
       "      <th>Volume</th>\n",
       "    </tr>\n",
       "    <tr>\n",
       "      <th>Date</th>\n",
       "      <th></th>\n",
       "      <th></th>\n",
       "      <th></th>\n",
       "      <th></th>\n",
       "      <th></th>\n",
       "    </tr>\n",
       "  </thead>\n",
       "  <tbody>\n",
       "    <tr>\n",
       "      <th>2020-12-17</th>\n",
       "      <td>127.3720</td>\n",
       "      <td>128.0500</td>\n",
       "      <td>126.5140</td>\n",
       "      <td>127.1720</td>\n",
       "      <td>9.549254e+07</td>\n",
       "    </tr>\n",
       "    <tr>\n",
       "      <th>2020-12-16</th>\n",
       "      <td>125.8960</td>\n",
       "      <td>126.8440</td>\n",
       "      <td>125.0690</td>\n",
       "      <td>126.2850</td>\n",
       "      <td>9.938752e+07</td>\n",
       "    </tr>\n",
       "    <tr>\n",
       "      <th>2020-12-15</th>\n",
       "      <td>122.8550</td>\n",
       "      <td>126.3740</td>\n",
       "      <td>122.6460</td>\n",
       "      <td>126.3540</td>\n",
       "      <td>1.594638e+08</td>\n",
       "    </tr>\n",
       "    <tr>\n",
       "      <th>2020-12-14</th>\n",
       "      <td>121.1400</td>\n",
       "      <td>121.8880</td>\n",
       "      <td>120.0940</td>\n",
       "      <td>120.3330</td>\n",
       "      <td>8.002524e+07</td>\n",
       "    </tr>\n",
       "    <tr>\n",
       "      <th>2020-12-11</th>\n",
       "      <td>120.9810</td>\n",
       "      <td>121.3000</td>\n",
       "      <td>119.1260</td>\n",
       "      <td>120.9610</td>\n",
       "      <td>8.798344e+07</td>\n",
       "    </tr>\n",
       "    <tr>\n",
       "      <th>...</th>\n",
       "      <td>...</td>\n",
       "      <td>...</td>\n",
       "      <td>...</td>\n",
       "      <td>...</td>\n",
       "      <td>...</td>\n",
       "    </tr>\n",
       "    <tr>\n",
       "      <th>2012-01-09</th>\n",
       "      <td>12.9525</td>\n",
       "      <td>13.0213</td>\n",
       "      <td>12.8289</td>\n",
       "      <td>12.8408</td>\n",
       "      <td>4.620092e+08</td>\n",
       "    </tr>\n",
       "    <tr>\n",
       "      <th>2012-01-06</th>\n",
       "      <td>12.7800</td>\n",
       "      <td>12.8717</td>\n",
       "      <td>12.7630</td>\n",
       "      <td>12.8608</td>\n",
       "      <td>3.734286e+08</td>\n",
       "    </tr>\n",
       "    <tr>\n",
       "      <th>2012-01-05</th>\n",
       "      <td>12.6314</td>\n",
       "      <td>12.7422</td>\n",
       "      <td>12.5627</td>\n",
       "      <td>12.7272</td>\n",
       "      <td>3.178972e+08</td>\n",
       "    </tr>\n",
       "    <tr>\n",
       "      <th>2012-01-04</th>\n",
       "      <td>12.4849</td>\n",
       "      <td>12.6235</td>\n",
       "      <td>12.4600</td>\n",
       "      <td>12.5866</td>\n",
       "      <td>3.051786e+08</td>\n",
       "    </tr>\n",
       "    <tr>\n",
       "      <th>2012-01-03</th>\n",
       "      <td>12.4779</td>\n",
       "      <td>12.5577</td>\n",
       "      <td>12.4520</td>\n",
       "      <td>12.5198</td>\n",
       "      <td>3.544907e+08</td>\n",
       "    </tr>\n",
       "  </tbody>\n",
       "</table>\n",
       "<p>2256 rows × 5 columns</p>\n",
       "</div>"
      ],
      "text/plain": [
       "                Open      High       Low     Close        Volume\n",
       "Date                                                            \n",
       "2020-12-17  127.3720  128.0500  126.5140  127.1720  9.549254e+07\n",
       "2020-12-16  125.8960  126.8440  125.0690  126.2850  9.938752e+07\n",
       "2020-12-15  122.8550  126.3740  122.6460  126.3540  1.594638e+08\n",
       "2020-12-14  121.1400  121.8880  120.0940  120.3330  8.002524e+07\n",
       "2020-12-11  120.9810  121.3000  119.1260  120.9610  8.798344e+07\n",
       "...              ...       ...       ...       ...           ...\n",
       "2012-01-09   12.9525   13.0213   12.8289   12.8408  4.620092e+08\n",
       "2012-01-06   12.7800   12.8717   12.7630   12.8608  3.734286e+08\n",
       "2012-01-05   12.6314   12.7422   12.5627   12.7272  3.178972e+08\n",
       "2012-01-04   12.4849   12.6235   12.4600   12.5866  3.051786e+08\n",
       "2012-01-03   12.4779   12.5577   12.4520   12.5198  3.544907e+08\n",
       "\n",
       "[2256 rows x 5 columns]"
      ]
     },
     "execution_count": 7,
     "metadata": {},
     "output_type": "execute_result"
    }
   ],
   "source": [
    "df"
   ]
  },
  {
   "cell_type": "code",
   "execution_count": 8,
   "metadata": {},
   "outputs": [
    {
     "data": {
      "text/plain": [
       "(2256, 5)"
      ]
     },
     "execution_count": 8,
     "metadata": {},
     "output_type": "execute_result"
    }
   ],
   "source": [
    "df.shape"
   ]
  },
  {
   "cell_type": "code",
   "execution_count": null,
   "metadata": {},
   "outputs": [],
   "source": [
    "plt.figzise(16, 8)"
   ]
  }
 ],
 "metadata": {
  "kernelspec": {
   "display_name": "Python 3",
   "language": "python",
   "name": "python3"
  },
  "language_info": {
   "codemirror_mode": {
    "name": "ipython",
    "version": 3
   },
   "file_extension": ".py",
   "mimetype": "text/x-python",
   "name": "python",
   "nbconvert_exporter": "python",
   "pygments_lexer": "ipython3",
   "version": "3.10.0"
  }
 },
 "nbformat": 4,
 "nbformat_minor": 2
}
